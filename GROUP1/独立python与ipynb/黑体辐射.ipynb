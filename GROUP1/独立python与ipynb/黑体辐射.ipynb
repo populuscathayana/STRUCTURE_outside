{
 "cells": [
  {
   "cell_type": "markdown",
   "metadata": {},
   "source": [
    "黑体辐射相关绘图"
   ]
  },
  {
   "cell_type": "code",
   "execution_count": null,
   "metadata": {},
   "outputs": [],
   "source": [
    "\n",
    "import numpy as np\n",
    "import matplotlib.pyplot as plt\n",
    "from scipy.constants import h, c, k\n",
    "\n",
    "def blackbody_radiation_density(f, T):\n",
    "    \"\"\"\n",
    "    Calculate the blackbody radiation density at a given frequency f and temperature T.\n",
    "    \"\"\"\n",
    "    return (2  * f**3 * h / c**2) / (np.exp(h * f / (k * T)) - 1)\n",
    "\n",
    "# Frequencies ranging from 1e11 to 3e14 Hz\n",
    "frequencies = np.linspace(1e11, 3e14, 50)\n",
    "# Temperatures ranging from 25 to 600 K\n",
    "temperatures = np.linspace(25, 1000, 1000)\n",
    "\n",
    "# Create the figure and set its size\n",
    "plt.figure(figsize=(10, 6))\n",
    "\n",
    "# Generate a colormap to represent different temperatures\n",
    "cmap = plt.get_cmap('plasma')\n",
    "norm = plt.Normalize(25, 1000)\n",
    "\n",
    "# Plot the blackbody radiation density for each temperature\n",
    "for T in temperatures:\n",
    "    densities = [blackbody_radiation_density(f, T) for f in frequencies]\n",
    "    plt.plot(frequencies, densities, color=cmap(norm(T)))\n",
    "\n",
    "# Add title, labels and grid\n",
    "plt.title('Blackbody Radiation vs Frequency for Different Temperatures')\n",
    "plt.xlabel('Frequency (Hz)')\n",
    "plt.ylabel('Energy Density (J/m^3/Hz)')\n",
    "plt.grid(True)\n",
    "\n",
    "# Add a colorbar to represent the temperature scale\n",
    "sm = plt.cm.ScalarMappable(cmap=cmap, norm=norm)\n",
    "sm.set_array([])\n",
    "plt.colorbar(sm, label='Temperature (K)')\n",
    "\n",
    "# Show the plot\n",
    "plt.show()\n"
   ]
  }
 ],
 "metadata": {
  "kernelspec": {
   "display_name": "base",
   "language": "python",
   "name": "python3"
  },
  "language_info": {
   "codemirror_mode": {
    "name": "ipython",
    "version": 3
   },
   "file_extension": ".py",
   "mimetype": "text/x-python",
   "name": "python",
   "nbconvert_exporter": "python",
   "pygments_lexer": "ipython3",
   "version": "3.10.8"
  },
  "orig_nbformat": 4
 },
 "nbformat": 4,
 "nbformat_minor": 2
}
